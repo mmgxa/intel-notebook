{
 "cells": [
  {
   "cell_type": "code",
   "execution_count": null,
   "id": "1545498a-2c83-4d69-b44a-df08fc17c2b1",
   "metadata": {},
   "outputs": [],
   "source": [
    "! pip install --quiet git-remote-codecommit"
   ]
  },
  {
   "cell_type": "code",
   "execution_count": null,
   "id": "c2b10f4c-0b06-4f84-8284-d0a470781a0c",
   "metadata": {
    "tags": []
   },
   "outputs": [],
   "source": [
    "import boto3\n",
    "import sagemaker\n",
    "import time\n",
    "from time import strftime\n",
    "\n",
    "boto_session = boto3.Session()\n",
    "sagemaker_session = sagemaker.Session(boto_session=boto_session)\n",
    "sm_client = boto3.client(\"sagemaker\")\n",
    "region = boto_session.region_name\n",
    "bucket = sagemaker_session.default_bucket()\n",
    "role = sagemaker.get_execution_role()\n",
    "account = sagemaker_session.boto_session.client(\"sts\").get_caller_identity()[\"Account\"]\n",
    "\n",
    "prefix = 'sagemaker-intel-dvc'\n",
    "\n",
    "print(f\"account: {account}\")\n",
    "print(f\"bucket: {bucket}\")\n",
    "print(f\"region: {region}\")\n",
    "print(f\"role: {role}\")"
   ]
  },
  {
   "cell_type": "code",
   "execution_count": null,
   "id": "3aef066b-3eb8-4e9c-b8ca-e1fec9ef7201",
   "metadata": {},
   "outputs": [],
   "source": [
    "from sagemaker.pytorch.processing import PyTorchProcessor\n",
    "from sagemaker.processing import ProcessingInput, ProcessingOutput\n",
    "from sagemaker import get_execution_role"
   ]
  },
  {
   "cell_type": "code",
   "execution_count": null,
   "id": "fd9d2589-c0e3-4d41-9ecf-7d95eb8f3925",
   "metadata": {
    "tags": []
   },
   "outputs": [],
   "source": [
    "dvc_repo_url = \"codecommit::us-west-2://sagemaker-intel\"\n",
    "dvc_branch = \"processed-dataset\""
   ]
  },
  {
   "cell_type": "code",
   "execution_count": null,
   "id": "722e3204-ce72-40e3-9903-2a0f7415c676",
   "metadata": {
    "tags": []
   },
   "outputs": [],
   "source": [
    "pytorch_processor = PyTorchProcessor(\n",
    "    image_uri='public.ecr.aws/f2t6q8t2/emlo:infer',\n",
    "    role=get_execution_role(),\n",
    "    instance_type='ml.t3.medium',\n",
    "    instance_count=1,\n",
    "    base_job_name='preprocess-intel-dataset',\n",
    "    env={\n",
    "        \"DVC_REPO_URL\": dvc_repo_url,\n",
    "        \"DVC_BRANCH\": dvc_branch,\n",
    "        \"GIT_USER\": \"m\",\n",
    "        \"GIT_EMAIL\": \"m@emlo.com\"\n",
    "    }\n",
    ")"
   ]
  },
  {
   "cell_type": "code",
   "execution_count": null,
   "id": "49d3779c-5211-4f51-9670-22d2b6287125",
   "metadata": {
    "tags": []
   },
   "outputs": [],
   "source": [
    "input_dataset = \"s3://sagemaker-us-west-2-350104937619/intel.zip\""
   ]
  },
  {
   "cell_type": "code",
   "execution_count": null,
   "id": "96f0634c-96e4-45d8-a14e-1e25a7dbcf52",
   "metadata": {},
   "outputs": [],
   "source": [
    "pytorch_processor.run(\n",
    "    # code='preprocess.py',\n",
    "    # source_dir='sagemaker-intel',\n",
    "    # dependencies=[\"sagemaker-intel/requirements.txt\"],\n",
    "    inputs=[\n",
    "        ProcessingInput(\n",
    "            input_name='data',\n",
    "            source=input_dataset,\n",
    "            destination='/opt/ml/processing/input'\n",
    "        )\n",
    "    ]\n",
    ")"
   ]
  },
  {
   "cell_type": "code",
   "execution_count": null,
   "id": "e23fe4a3-b8e6-4619-8910-a9411a77e1f6",
   "metadata": {},
   "outputs": [],
   "source": [
    "%pwd"
   ]
  },
  {
   "cell_type": "code",
   "execution_count": null,
   "id": "76d4998b-69cc-4afb-b846-59abcf819d54",
   "metadata": {},
   "outputs": [],
   "source": [
    "! aws s3 cp s3://sagemaker-us-west-2-350104937619/intel.zip ."
   ]
  },
  {
   "cell_type": "code",
   "execution_count": null,
   "id": "a7d86a95-68ed-4a6e-9b93-e0d995784570",
   "metadata": {},
   "outputs": [],
   "source": [
    "from torchvision.datasets.utils import extract_archive\n",
    "\n",
    "from pathlib import Path"
   ]
  },
  {
   "cell_type": "code",
   "execution_count": null,
   "id": "c6f85c59-cd79-4b85-b8a0-658de6ee31a6",
   "metadata": {},
   "outputs": [],
   "source": [
    "%pwd"
   ]
  },
  {
   "cell_type": "code",
   "execution_count": null,
   "id": "9ed7b66e-2df3-4c2c-9cbc-50d67eb2ecd3",
   "metadata": {},
   "outputs": [],
   "source": [
    "dataset_zip = Path(\"/root/intel-project/intel.zip\")\n",
    "dataset_extracted = Path(\"/root/intel-project/\")"
   ]
  },
  {
   "cell_type": "code",
   "execution_count": null,
   "id": "c64429a5-b02e-4ba7-8be1-13a6c6ae5c53",
   "metadata": {},
   "outputs": [],
   "source": [
    "extract_archive(\n",
    "    from_path=dataset_zip,\n",
    "    to_path=dataset_extracted\n",
    ")"
   ]
  },
  {
   "cell_type": "code",
   "execution_count": null,
   "id": "e79e72ae-ceb7-4a33-8c35-bcf8a0936956",
   "metadata": {},
   "outputs": [],
   "source": [
    "dataset_full = list((dataset_extracted / \"intel\").glob(\"*/*.jpg\"))\n",
    "labels = [x.parent.stem for x in dataset_full]"
   ]
  },
  {
   "cell_type": "code",
   "execution_count": null,
   "id": "739d104f-fa88-4e61-b378-e7ccddad773d",
   "metadata": {},
   "outputs": [],
   "source": [
    "import numpy as np"
   ]
  },
  {
   "cell_type": "code",
   "execution_count": null,
   "id": "cf9cac80-6768-40f1-94c4-2004d2597d56",
   "metadata": {},
   "outputs": [],
   "source": [
    "from collections import Counter"
   ]
  },
  {
   "cell_type": "code",
   "execution_count": null,
   "id": "f03143e1-38e8-4c60-8b83-f0394236c3a0",
   "metadata": {},
   "outputs": [],
   "source": [
    "Counter(labels)"
   ]
  },
  {
   "cell_type": "code",
   "execution_count": null,
   "id": "80a87190-2e6a-4c15-962c-6686b49c12fa",
   "metadata": {},
   "outputs": [],
   "source": [
    "! pip install --quiet scikit-learn"
   ]
  },
  {
   "cell_type": "code",
   "execution_count": null,
   "id": "ffbef36a-b89b-44b9-b1f7-1a11de8a16b8",
   "metadata": {},
   "outputs": [],
   "source": [
    "from sklearn.model_selection import train_test_split"
   ]
  },
  {
   "cell_type": "code",
   "execution_count": null,
   "id": "fa2e4004-bbb3-4c13-a492-f5ce44ded246",
   "metadata": {},
   "outputs": [],
   "source": [
    "dataset_full[0], labels[0]"
   ]
  },
  {
   "cell_type": "code",
   "execution_count": null,
   "id": "7561d768-c058-4dbc-b219-65ce7844f054",
   "metadata": {},
   "outputs": [],
   "source": [
    "dataset_full[0].name"
   ]
  },
  {
   "cell_type": "code",
   "execution_count": null,
   "id": "5f2f9729-cec4-4f41-a2bc-15259640ed21",
   "metadata": {},
   "outputs": [],
   "source": [
    "d_train, d_test = train_test_split(dataset_full, stratify=labels)"
   ]
  },
  {
   "cell_type": "code",
   "execution_count": null,
   "id": "46076d79-0a80-4e01-be35-f0144bd83b62",
   "metadata": {},
   "outputs": [],
   "source": [
    "Counter(x.parent.stem for x in d_train)"
   ]
  },
  {
   "cell_type": "code",
   "execution_count": null,
   "id": "46d92cf8-0ae9-4c10-ae72-af130661c972",
   "metadata": {},
   "outputs": [],
   "source": [
    "Counter(x.parent.stem for x in d_test)"
   ]
  },
  {
   "cell_type": "code",
   "execution_count": null,
   "id": "e15c46d5-2801-43a3-872c-daa57dd18cc9",
   "metadata": {},
   "outputs": [],
   "source": [
    "git_path = Path(\"/root/intel-project/example-git\")\n",
    "for path in ['train', 'test']:\n",
    "        output_dir = git_path / \"dataset\" / path\n",
    "        output_dir.mkdir(parents=True, exist_ok=True)"
   ]
  },
  {
   "cell_type": "code",
   "execution_count": null,
   "id": "27e549ca-db7b-491c-b0ec-47d94cc015ed",
   "metadata": {},
   "outputs": [],
   "source": [
    "import shutil"
   ]
  },
  {
   "cell_type": "code",
   "execution_count": null,
   "id": "8a610b0d-911b-46bb-ab59-18ef0dd96b04",
   "metadata": {},
   "outputs": [],
   "source": [
    "def write_dataset(image_paths, output_dir):\n",
    "    for img_path in image_paths:\n",
    "        Path(output_dir / img_path.parent.stem).mkdir(parents=True, exist_ok=True)\n",
    "        shutil.copyfile(img_path, output_dir / img_path.parent.stem / img_path.name)"
   ]
  },
  {
   "cell_type": "code",
   "execution_count": null,
   "id": "b36eb9b7-3353-483c-9d37-cec9c854e2f5",
   "metadata": {},
   "outputs": [],
   "source": [
    "write_dataset(d_train, git_path / \"dataset\" / \"train\")\n",
    "write_dataset(d_test, git_path / \"dataset\" / \"test\")"
   ]
  },
  {
   "cell_type": "code",
   "execution_count": null,
   "id": "d8866178-deac-499e-9529-b32672f74637",
   "metadata": {},
   "outputs": [],
   "source": [
    "from torchvision.datasets import ImageFolder"
   ]
  },
  {
   "cell_type": "code",
   "execution_count": null,
   "id": "bbbd6053-fca8-44a9-b2ea-46bac168fe95",
   "metadata": {},
   "outputs": [],
   "source": [
    "img_dset = ImageFolder(git_path / \"dataset\" / \"train\")"
   ]
  },
  {
   "cell_type": "code",
   "execution_count": null,
   "id": "21dee1c7-d2b7-43d2-bb4e-52873cebd475",
   "metadata": {},
   "outputs": [],
   "source": [
    "img_dset[0][0]"
   ]
  },
  {
   "cell_type": "code",
   "execution_count": null,
   "id": "2e2c13b9-4e2a-4695-baf9-fee88903bae7",
   "metadata": {},
   "outputs": [],
   "source": [
    "img_dset = ImageFolder(git_path / \"dataset\" / \"test\")"
   ]
  },
  {
   "cell_type": "code",
   "execution_count": null,
   "id": "d343a2d9-def9-49c2-83b2-783c7fdcbe7b",
   "metadata": {},
   "outputs": [],
   "source": [
    "img_dset.classes"
   ]
  },
  {
   "cell_type": "code",
   "execution_count": null,
   "id": "14c53de5-7a34-4f85-8ce9-44c7788c5918",
   "metadata": {},
   "outputs": [],
   "source": []
  }
 ],
 "metadata": {
  "instance_type": "ml.t3.medium",
  "kernelspec": {
   "display_name": "Python 3.8.12 ('default')",
   "language": "python",
   "name": "python3"
  },
  "language_info": {
   "codemirror_mode": {
    "name": "ipython",
    "version": 3
   },
   "file_extension": ".py",
   "mimetype": "text/x-python",
   "name": "python",
   "nbconvert_exporter": "python",
   "pygments_lexer": "ipython3",
   "version": "3.8.12"
  },
  "vscode": {
   "interpreter": {
    "hash": "fac7424d3b00ca63a2b47ef3df037fa418f5dff68073eb8d994aac0c5e313ce6"
   }
  }
 },
 "nbformat": 4,
 "nbformat_minor": 5
}
