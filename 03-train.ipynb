{
 "cells": [
  {
   "cell_type": "markdown",
   "id": "a6993ef9-52b6-478e-84c3-f11b3130696a",
   "metadata": {},
   "source": [
    "# 03 - Train and Deploy"
   ]
  },
  {
   "cell_type": "code",
   "execution_count": null,
   "id": "08b19d9f-b20a-4db5-b685-e60bb9251cec",
   "metadata": {
    "tags": []
   },
   "outputs": [],
   "source": [
    "import boto3\n",
    "import sagemaker\n",
    "import time\n",
    "from time import strftime\n",
    "\n",
    "boto_session = boto3.Session()\n",
    "sagemaker_session = sagemaker.Session(boto_session=boto_session)\n",
    "sm_client = boto3.client(\"sagemaker\")\n",
    "region = boto_session.region_name\n",
    "bucket = sagemaker_session.default_bucket()\n",
    "role = sagemaker.get_execution_role()\n",
    "account = sagemaker_session.boto_session.client(\"sts\").get_caller_identity()[\"Account\"]\n",
    "\n",
    "prefix = 'sagemaker-intel-dvc'\n",
    "\n",
    "print(f\"account: {account}\")\n",
    "print(f\"bucket: {bucket}\")\n",
    "print(f\"region: {region}\")\n",
    "print(f\"role: {role}\")"
   ]
  },
  {
   "cell_type": "code",
   "execution_count": null,
   "id": "f7293482-36a0-4eb2-8a8d-74cc2cf72d03",
   "metadata": {
    "tags": []
   },
   "outputs": [],
   "source": [
    "from sagemaker.pytorch import PyTorch\n",
    "from sagemaker import get_execution_role\n",
    "from sagemaker.debugger import TensorBoardOutputConfig"
   ]
  },
  {
   "cell_type": "code",
   "execution_count": null,
   "id": "6827a0f4-9d89-4c35-b34d-ac42ac1fc54e",
   "metadata": {
    "tags": []
   },
   "outputs": [],
   "source": [
    "dvc_repo_url = \"codecommit::us-west-2://sagemaker-intel\"\n",
    "dvc_branch = \"processed-dataset\""
   ]
  },
  {
   "cell_type": "code",
   "execution_count": null,
   "id": "0fe13f8b-efd2-466f-a39d-2bb9bcd21b23",
   "metadata": {},
   "outputs": [],
   "source": [
    "tensorboard_output_config = TensorBoardOutputConfig(\n",
    "    s3_output_path=f's3://{bucket}/sagemaker-intel-logs',\n",
    "    container_local_output_path='/opt/ml/output/tensorboard'\n",
    ")"
   ]
  },
  {
   "cell_type": "code",
   "execution_count": null,
   "id": "f76556a8-16cf-498c-a369-356c33d202d3",
   "metadata": {
    "tags": []
   },
   "outputs": [],
   "source": [
    "pt_estimator = PyTorch(\n",
    "    base_job_name=\"training-intel-dataset\",\n",
    "    role=get_execution_role(),\n",
    "    image_uri='public.ecr.aws/f2t6q8t2/emlo:train',\n",
    "    instance_count=1,\n",
    "    instance_type=\"ml.g4dn.2xlarge\",\n",
    "    tensorboard_output_config=tensorboard_output_config,\n",
    "    use_spot_instances=True,\n",
    "    max_wait=1800,\n",
    "    max_run=1500,\n",
    "    environment={\n",
    "        \"DVC_REPO_URL\": dvc_repo_url,\n",
    "        \"DVC_BRANCH\": dvc_branch,\n",
    "        \"GIT_USER\": \"m\",\n",
    "        \"GIT_EMAIL\": \"m@emlo.com\"\n",
    "    }\n",
    ")"
   ]
  },
  {
   "cell_type": "code",
   "execution_count": null,
   "id": "d3590c72-8b46-403c-98c1-b47931e1e0d2",
   "metadata": {
    "tags": []
   },
   "outputs": [],
   "source": [
    "pt_estimator.fit()"
   ]
  },
  {
   "cell_type": "markdown",
   "id": "024cb987-bb1f-4e98-a044-a43746510735",
   "metadata": {},
   "source": [
    "## Deploy to Endpoint"
   ]
  },
  {
   "cell_type": "code",
   "execution_count": null,
   "id": "3f36d620-01b1-4a4b-baed-ee05248ba2c1",
   "metadata": {
    "tags": []
   },
   "outputs": [],
   "source": [
    "from sagemaker.pytorch import PyTorchModel\n",
    "from sagemaker.serializers import JSONSerializer\n",
    "from sagemaker.deserializers import JSONDeserializer"
   ]
  },
  {
   "cell_type": "markdown",
   "id": "386bac9b-13b3-42e5-8dc1-194bc12cb6ea",
   "metadata": {},
   "source": [
    "Get the `model_data` from the models uploaded to S3 of the aboved training"
   ]
  },
  {
   "cell_type": "markdown",
   "id": "30d85420-0ef5-44e7-866b-d6fdb502c9e0",
   "metadata": {},
   "source": [
    "Once your debugging is done, it's better to simply call `pt_estimator.deploy`"
   ]
  },
  {
   "cell_type": "code",
   "execution_count": null,
   "id": "278826ba-1fb6-4361-9c15-8793455ce308",
   "metadata": {
    "tags": []
   },
   "outputs": [],
   "source": [
    "model = PyTorchModel(\n",
    "    entry_point=\"infer.py\",\n",
    "    source_dir=\"scripts\",\n",
    "    role=get_execution_role(),\n",
    "    model_data=\"s3://sagemaker-ap-south-1-006547668672/training-flower-dataset-2022-11-29-11-36-31-730/output/model.tar.gz\",\n",
    "    framework_version=\"1.12.0\",\n",
    "    py_version=\"py38\",\n",
    ")"
   ]
  },
  {
   "cell_type": "code",
   "execution_count": null,
   "id": "aec12d4d-fc66-40bf-b976-c9216c0d7fdb",
   "metadata": {
    "tags": []
   },
   "outputs": [],
   "source": [
    "predictor = model.deploy(\n",
    "    initial_instance_count=1,\n",
    "    instance_type=\"ml.t2.medium\",\n",
    "    serializer=JSONSerializer(),\n",
    "    deserializer=JSONDeserializer(),\n",
    ")"
   ]
  },
  {
   "cell_type": "markdown",
   "id": "90d6963a-3d06-47b2-8ad9-ce726a1efc96",
   "metadata": {},
   "source": [
    "## Predictor"
   ]
  },
  {
   "cell_type": "code",
   "execution_count": null,
   "id": "03f1b820-edaa-42c1-9250-482ee1e7bfcc",
   "metadata": {
    "tags": []
   },
   "outputs": [],
   "source": [
    "from sagemaker.pytorch import PyTorchPredictor"
   ]
  },
  {
   "cell_type": "markdown",
   "id": "df81d9d4-7e85-4f29-bf65-61552c25bb0c",
   "metadata": {},
   "source": [
    "Predictor is also not needed to be created again, but today we want to be verbose"
   ]
  },
  {
   "cell_type": "code",
   "execution_count": null,
   "id": "9c4cf8e8-bfd8-4c9a-b39b-01c4e4a13c58",
   "metadata": {
    "tags": []
   },
   "outputs": [],
   "source": [
    "predictor_new = PyTorchPredictor(\n",
    "    endpoint_name=\"pytorch-inference-2022-11-29-11-45-30-851\",\n",
    "    sagemaker_session=sagemaker_session,\n",
    "    serializer=JSONSerializer(),\n",
    "    deserializer=JSONDeserializer(),\n",
    ")"
   ]
  },
  {
   "cell_type": "code",
   "execution_count": null,
   "id": "84cac30d-8867-41d0-afe2-5793bd87c659",
   "metadata": {
    "tags": []
   },
   "outputs": [],
   "source": [
    "import numpy as np"
   ]
  },
  {
   "cell_type": "code",
   "execution_count": null,
   "id": "a34d8797-6ce3-4104-a81b-eca9cec5eb13",
   "metadata": {
    "tags": []
   },
   "outputs": [],
   "source": [
    "dummy_data = {\"inputs\": np.random.randn(1, 3, 224, 224)}"
   ]
  },
  {
   "cell_type": "code",
   "execution_count": null,
   "id": "157c2ee6-74e9-4d04-b54c-18037344f514",
   "metadata": {
    "tags": []
   },
   "outputs": [],
   "source": [
    "out = predictor_new.predict(dummy_data)"
   ]
  },
  {
   "cell_type": "code",
   "execution_count": null,
   "id": "e2ab55f6-7bf4-429b-aff4-5eac27dcc62c",
   "metadata": {
    "tags": []
   },
   "outputs": [],
   "source": [
    "out = np.array(out)"
   ]
  },
  {
   "cell_type": "code",
   "execution_count": null,
   "id": "130273d3-ed98-442b-8956-b145d865e702",
   "metadata": {
    "tags": []
   },
   "outputs": [],
   "source": [
    "out.shape"
   ]
  },
  {
   "cell_type": "code",
   "execution_count": null,
   "id": "04478626-d4d8-463f-9664-c9069a4950a7",
   "metadata": {
    "tags": []
   },
   "outputs": [],
   "source": [
    "classnames = ['buildings', 'forest', 'glacier', 'mountain', 'sea', 'street']"
   ]
  },
  {
   "cell_type": "code",
   "execution_count": null,
   "id": "da62aef8-43c7-4bc8-aee4-5726e2851310",
   "metadata": {
    "tags": []
   },
   "outputs": [],
   "source": [
    "import torch\n",
    "\n",
    "import torchvision.transforms as T\n",
    "import torch.nn.functional as F\n",
    "\n",
    "from PIL import Image"
   ]
  },
  {
   "cell_type": "code",
   "execution_count": null,
   "id": "2bd5dde1-348e-46de-b583-856db760d98e",
   "metadata": {
    "tags": []
   },
   "outputs": [],
   "source": [
    "inp_img = Image.open(\"forest.jpg\")"
   ]
  },
  {
   "cell_type": "markdown",
   "id": "29e6b178-a4fa-4bbb-b2bd-f7fb4abcf507",
   "metadata": {},
   "source": [
    "We could have done all this in infer.py as well, but today we are being verbose :p"
   ]
  },
  {
   "cell_type": "code",
   "execution_count": null,
   "id": "879fff16-9c91-492e-9f07-91637d01d3d2",
   "metadata": {
    "tags": []
   },
   "outputs": [],
   "source": [
    "inp_img.resize((224, 224))"
   ]
  },
  {
   "cell_type": "code",
   "execution_count": null,
   "id": "545bd49a-a080-4e4d-8e5c-3ee8b5fab78b",
   "metadata": {
    "tags": []
   },
   "outputs": [],
   "source": [
    "transforms = T.Compose([\n",
    "    T.ToTensor(),\n",
    "    T.Resize((224, 224)),\n",
    "    T.Normalize(mean=[0.485, 0.456, 0.406], std=[0.229, 0.224, 0.225])\n",
    "])"
   ]
  },
  {
   "cell_type": "code",
   "execution_count": null,
   "id": "49f08d4c-ceb1-42b4-8f63-d128c7b303eb",
   "metadata": {
    "tags": []
   },
   "outputs": [],
   "source": [
    "img_t = transforms(inp_img)"
   ]
  },
  {
   "cell_type": "code",
   "execution_count": null,
   "id": "6f44966d-6891-42ea-bc40-aaae4fdc6af1",
   "metadata": {
    "tags": []
   },
   "outputs": [],
   "source": [
    "input_tensor = {\"inputs\": img_t[None, ...].numpy().tolist()}"
   ]
  },
  {
   "cell_type": "code",
   "execution_count": null,
   "id": "7030372a-1e72-4e1c-ad90-c571c926076c",
   "metadata": {
    "tags": []
   },
   "outputs": [],
   "source": [
    "out = predictor_new.predict(input_tensor)"
   ]
  },
  {
   "cell_type": "code",
   "execution_count": null,
   "id": "38c26735-9662-418a-9769-a662dfc68b7f",
   "metadata": {
    "tags": []
   },
   "outputs": [],
   "source": [
    "out_t = torch.tensor(out)"
   ]
  },
  {
   "cell_type": "code",
   "execution_count": null,
   "id": "bbc6545e-a1bb-4946-b077-b08a195b83e8",
   "metadata": {
    "tags": []
   },
   "outputs": [],
   "source": [
    "out_t.shape"
   ]
  },
  {
   "cell_type": "code",
   "execution_count": null,
   "id": "a7308b86-725e-45c3-9490-cf69924a753f",
   "metadata": {
    "tags": []
   },
   "outputs": [],
   "source": [
    "F.softmax(out_t, dim=-1)"
   ]
  },
  {
   "cell_type": "code",
   "execution_count": null,
   "id": "8c2a6f52-f14f-4550-84a3-f058ce6e09d5",
   "metadata": {
    "tags": []
   },
   "outputs": [],
   "source": [
    "f\"Prediction: {classnames[torch.argmax(out_t, dim=-1)[0]]}\""
   ]
  },
  {
   "cell_type": "code",
   "execution_count": null,
   "id": "de4f2b41-0653-48a7-b745-d89e188e4533",
   "metadata": {},
   "outputs": [],
   "source": []
  },
  {
   "cell_type": "code",
   "execution_count": null,
   "id": "118a749c-04cd-439a-8d89-3a65f79f6089",
   "metadata": {},
   "outputs": [],
   "source": []
  },
  {
   "cell_type": "markdown",
   "id": "0a1bfc72-667a-46df-a0c3-4eadc119ed82",
   "metadata": {},
   "source": [
    "### Testing"
   ]
  },
  {
   "cell_type": "code",
   "execution_count": null,
   "id": "c35d0f2b-4ae4-49e9-85f9-d33558b5b4f8",
   "metadata": {
    "tags": []
   },
   "outputs": [],
   "source": [
    "! pip install --quiet timm pytorch-lightning"
   ]
  },
  {
   "cell_type": "code",
   "execution_count": null,
   "id": "8bdb5824-c5db-46b4-93e1-53343a120688",
   "metadata": {
    "tags": []
   },
   "outputs": [],
   "source": [
    "from typing import Any, Dict, Optional, Tuple\n",
    "\n",
    "import os\n",
    "import subprocess\n",
    "import torch\n",
    "import timm\n",
    "\n",
    "import pytorch_lightning as pl\n",
    "import torchvision.transforms as T\n",
    "import torch.nn.functional as F\n",
    "\n",
    "from pathlib import Path\n",
    "from torchvision.datasets import ImageFolder\n",
    "from pytorch_lightning.plugins.environments import LightningEnvironment\n",
    "from torch.utils.data import DataLoader, Dataset\n",
    "from torchmetrics.functional import accuracy"
   ]
  },
  {
   "cell_type": "code",
   "execution_count": null,
   "id": "73f68937-f11b-47d6-8725-74b565eeea17",
   "metadata": {
    "tags": []
   },
   "outputs": [],
   "source": [
    "class LitResnet(pl.LightningModule):\n",
    "    def __init__(self, num_classes=10, lr=0.05):\n",
    "        super().__init__()\n",
    "\n",
    "        self.save_hyperparameters()\n",
    "        self.model = timm.create_model('resnet18', pretrained=True)\n",
    "\n",
    "    def forward(self, x):\n",
    "        out = self.model(x)\n",
    "        return F.log_softmax(out, dim=1)\n",
    "\n",
    "    def training_step(self, batch, batch_idx):\n",
    "        x, y = batch\n",
    "        logits = self(x)\n",
    "        loss = F.nll_loss(logits, y)\n",
    "        self.log(\"train_loss\", loss)\n",
    "        return loss\n",
    "\n",
    "    def evaluate(self, batch, stage=None):\n",
    "        x, y = batch\n",
    "        logits = self(x)\n",
    "        loss = F.nll_loss(logits, y)\n",
    "        preds = torch.argmax(logits, dim=1)\n",
    "        acc = accuracy(preds, y)\n",
    "\n",
    "        if stage:\n",
    "            self.log(f\"{stage}/loss\", loss, prog_bar=True)\n",
    "            self.log(f\"{stage}/acc\", acc, prog_bar=True)\n",
    "\n",
    "    def validation_step(self, batch, batch_idx):\n",
    "        self.evaluate(batch, \"val\")\n",
    "\n",
    "    def test_step(self, batch, batch_idx):\n",
    "        self.evaluate(batch, \"test\")\n",
    "\n",
    "    def configure_optimizers(self):\n",
    "        optimizer = torch.optim.SGD(\n",
    "            self.parameters(),\n",
    "            lr=self.hparams.lr,\n",
    "            momentum=0.9,\n",
    "            weight_decay=5e-4,\n",
    "        )\n",
    "        return {\"optimizer\": optimizer}\n"
   ]
  },
  {
   "cell_type": "code",
   "execution_count": null,
   "id": "c5696953-8789-4c2d-8922-e9685e466f8c",
   "metadata": {
    "tags": []
   },
   "outputs": [],
   "source": [
    "class FlowerDataModule(pl.LightningDataModule):\n",
    "    def __init__(\n",
    "        self,\n",
    "        data_dir: str = \"data/\",\n",
    "        batch_size: int = 64,\n",
    "        num_workers: int = 0,\n",
    "        pin_memory: bool = False,\n",
    "    ):\n",
    "        super().__init__()\n",
    "\n",
    "        # this line allows to access init params with 'self.hparams' attribute\n",
    "        # also ensures init params will be stored in ckpt\n",
    "        self.save_hyperparameters(logger=False)\n",
    "        \n",
    "        self.data_dir = Path(data_dir)\n",
    "\n",
    "        # data transformations\n",
    "        self.transforms = T.Compose([\n",
    "            T.ToTensor(),\n",
    "            T.Resize((224, 224)),\n",
    "            T.Normalize(mean=[0.485, 0.456, 0.406], std=[0.229, 0.224, 0.225])\n",
    "        ])\n",
    "\n",
    "        self.data_train: Optional[Dataset] = None\n",
    "        self.data_test: Optional[Dataset] = None\n",
    "\n",
    "    @property\n",
    "    def num_classes(self):\n",
    "        return len(self.data_train.classes)\n",
    "    \n",
    "    @property\n",
    "    def classes(self):\n",
    "        return self.data_train.classes\n",
    "\n",
    "    def prepare_data(self):\n",
    "        \"\"\"Download data if needed.\n",
    "        Do not use it to assign state (self.x = y).\n",
    "        \"\"\"\n",
    "        pass\n",
    "\n",
    "    def setup(self, stage: Optional[str] = None):\n",
    "        \"\"\"Load data. Set variables: `self.data_train`, `self.data_val`, `self.data_test`.\n",
    "        This method is called by lightning with both `trainer.fit()` and `trainer.test()`, so be\n",
    "        careful not to execute things like random split twice!\n",
    "        \"\"\"\n",
    "        # load and split datasets only if not loaded already\n",
    "        if not self.data_train and not self.data_test:\n",
    "            trainset = ImageFolder(self.data_dir / \"train\", transform=self.transforms)\n",
    "            testset = ImageFolder(self.data_dir / \"test\", transform=self.transforms)\n",
    "            \n",
    "            self.data_train, self.data_test = trainset, testset\n",
    "\n",
    "    def train_dataloader(self):\n",
    "        return DataLoader(\n",
    "            dataset=self.data_train,\n",
    "            batch_size=self.hparams.batch_size,\n",
    "            num_workers=self.hparams.num_workers,\n",
    "            pin_memory=self.hparams.pin_memory,\n",
    "            shuffle=True,\n",
    "        )\n",
    "\n",
    "    def val_dataloader(self):\n",
    "        return DataLoader(\n",
    "            dataset=self.data_train,\n",
    "            batch_size=self.hparams.batch_size,\n",
    "            num_workers=self.hparams.num_workers,\n",
    "            pin_memory=self.hparams.pin_memory,\n",
    "            shuffle=False,\n",
    "        )\n",
    "\n",
    "    def test_dataloader(self):\n",
    "        return DataLoader(\n",
    "            dataset=self.data_test,\n",
    "            batch_size=self.hparams.batch_size,\n",
    "            num_workers=self.hparams.num_workers,\n",
    "            pin_memory=self.hparams.pin_memory,\n",
    "            shuffle=False,\n",
    "        )\n",
    "\n",
    "    def teardown(self, stage: Optional[str] = None):\n",
    "        \"\"\"Clean up after fit or test.\"\"\"\n",
    "        pass\n",
    "\n",
    "    def state_dict(self):\n",
    "        \"\"\"Extra things to save to checkpoint.\"\"\"\n",
    "        return {}\n",
    "\n",
    "    def load_state_dict(self, state_dict: Dict[str, Any]):\n",
    "        \"\"\"Things to do when loading checkpoint.\"\"\"\n",
    "        pass\n",
    "\n"
   ]
  },
  {
   "cell_type": "code",
   "execution_count": null,
   "id": "8928a4ca-6248-4547-943a-ae31e1f5faba",
   "metadata": {
    "tags": []
   },
   "outputs": [],
   "source": [
    "datamodule = FlowerDataModule(data_dir=(Path(\"/root/flower-project/example-git/\") / \"dataset\").absolute())\n",
    "datamodule.setup()"
   ]
  },
  {
   "cell_type": "code",
   "execution_count": null,
   "id": "c5dd8e2f-a468-431b-abfd-3778186104a0",
   "metadata": {
    "tags": []
   },
   "outputs": [],
   "source": [
    "datamodule.num_classes"
   ]
  },
  {
   "cell_type": "code",
   "execution_count": null,
   "id": "ac089e65-f5cb-48d0-9c47-0b6122590647",
   "metadata": {
    "tags": []
   },
   "outputs": [],
   "source": [
    "model = LitResnet(num_classes=datamodule.num_classes)"
   ]
  },
  {
   "cell_type": "code",
   "execution_count": null,
   "id": "48b5b40a-e841-4045-9f17-63427859acd8",
   "metadata": {
    "tags": []
   },
   "outputs": [],
   "source": [
    "trainer = pl.Trainer(\n",
    "    max_epochs=2,\n",
    "    accelerator=\"auto\",\n",
    ")"
   ]
  },
  {
   "cell_type": "code",
   "execution_count": null,
   "id": "a1e638ae-a114-4399-b268-4b48da4763d1",
   "metadata": {
    "tags": []
   },
   "outputs": [],
   "source": [
    "trainer.fit(model, datamodule)"
   ]
  },
  {
   "cell_type": "code",
   "execution_count": null,
   "id": "f3cd5724-bf5f-4114-9065-6a6631edab35",
   "metadata": {},
   "outputs": [],
   "source": []
  }
 ],
 "metadata": {
  "instance_type": "ml.t3.medium",
  "kernelspec": {
   "display_name": "Python 3.8.12 ('default')",
   "language": "python",
   "name": "python3"
  },
  "language_info": {
   "codemirror_mode": {
    "name": "ipython",
    "version": 3
   },
   "file_extension": ".py",
   "mimetype": "text/x-python",
   "name": "python",
   "nbconvert_exporter": "python",
   "pygments_lexer": "ipython3",
   "version": "3.8.12"
  },
  "vscode": {
   "interpreter": {
    "hash": "fac7424d3b00ca63a2b47ef3df037fa418f5dff68073eb8d994aac0c5e313ce6"
   }
  }
 },
 "nbformat": 4,
 "nbformat_minor": 5
}
